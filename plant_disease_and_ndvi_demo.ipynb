{
 "cells": [
  {
   "cell_type": "markdown",
   "id": "ff392422",
   "metadata": {},
   "source": [
    "\"\"\"\n",
    "📁 PlantVillage Dataset Splitter\n",
    "This script takes the original PlantVillage dataset — which contains one folder per class — \n",
    "and splits each class into 80% training and 20% validation images.\n",
    "\n",
    "🔧 Output:\n",
    "Creates a new directory 'PlantVillage_Split/' with two subfolders:\n",
    "- train/ : contains 80% of images from each class\n",
    "- val/   : contains 20% of images from each class\n",
    "\n",
    "🎯 Purpose:\n",
    "Keras and TensorFlow models expect the data to be arranged in this way when using \n",
    "ImageDataGenerator.flow_from_directory(). It helps the model generalize better by validating on unseen data."
   ]
  },
  {
   "cell_type": "code",
   "execution_count": 1,
   "id": "6dc119b7",
   "metadata": {},
   "outputs": [
    {
     "name": "stdout",
     "output_type": "stream",
     "text": [
      "✅ Dataset split into train/ and val/ complete!\n"
     ]
    }
   ],
   "source": [
    "import os\n",
    "import shutil\n",
    "import random\n",
    "from pathlib import Path\n",
    "\n",
    "# Paths\n",
    "original_dataset = Path(r\"C:\\Users\\kirti\\Desktop\\Desktop47\\IEEE\\PlantVillage Dataset\\PlantVillage\")  # Where your original data is\n",
    "output_base = Path(\"PlantVillage_Split\")  # New folder with train/ and val/\n",
    "\n",
    "train_dir = output_base / \"train\"\n",
    "val_dir = output_base / \"val\"\n",
    "\n",
    "# Create directories\n",
    "for label_dir in original_dataset.iterdir():\n",
    "    if label_dir.is_dir():\n",
    "        label = label_dir.name\n",
    "        images = list(label_dir.glob(\"*.jpg\"))\n",
    "        random.shuffle(images)\n",
    "        split_idx = int(0.8 * len(images))\n",
    "        train_imgs = images[:split_idx]\n",
    "        val_imgs = images[split_idx:]\n",
    "\n",
    "        # Create class folders\n",
    "        (train_dir / label).mkdir(parents=True, exist_ok=True)\n",
    "        (val_dir / label).mkdir(parents=True, exist_ok=True)\n",
    "\n",
    "        # Copy files\n",
    "        for img in train_imgs:\n",
    "            shutil.copy(img, train_dir / label / img.name)\n",
    "        for img in val_imgs:\n",
    "            shutil.copy(img, val_dir / label / img.name)\n",
    "\n",
    "print(\"✅ Dataset split into train/ and val/ complete!\")\n"
   ]
  },
  {
   "cell_type": "markdown",
   "id": "36d506e8",
   "metadata": {},
   "source": [
    "To create label_map.json so that it can do accurate Prediction"
   ]
  },
  {
   "cell_type": "code",
   "execution_count": 3,
   "id": "28bb60fa",
   "metadata": {},
   "outputs": [
    {
     "name": "stdout",
     "output_type": "stream",
     "text": [
      "✅ label_map.json created with 16 classes.\n"
     ]
    }
   ],
   "source": [
    "import os\n",
    "import json\n",
    "\n",
    "# Path to your training folder\n",
    "train_dir = r\"C:\\Users\\kirti\\Desktop\\Desktop47\\IEEE\\PlantVillage_Split\\train\"\n",
    "\n",
    "# Get all folder (class) names and sort them alphabetically to ensure consistent indexing\n",
    "classes = sorted([d for d in os.listdir(train_dir) if os.path.isdir(os.path.join(train_dir, d))])\n",
    "\n",
    "# Map each class to an index\n",
    "label_map = {cls: idx for idx, cls in enumerate(classes)}\n",
    "\n",
    "# Save to JSON file\n",
    "with open(\"label_map.json\", \"w\") as f:\n",
    "    json.dump(label_map, f)\n",
    "\n",
    "print(\"✅ label_map.json created with\", len(classes), \"classes.\")\n"
   ]
  },
  {
   "cell_type": "markdown",
   "id": "647a00ca",
   "metadata": {},
   "source": [
    "# 🌾 Plant Disease Detection and NDVI Estimation\n",
    "This notebook contains two main components:\n",
    "\n",
    "1. CNN-based Plant Disease Detection using Keras\n",
    "2. NDVI Estimation from Red and NIR band images using OpenCV"
   ]
  },
  {
   "cell_type": "markdown",
   "id": "1395bab1",
   "metadata": {},
   "source": [
    "!pip install tensorflow opencv-python matplotlib numpy"
   ]
  },
  {
   "cell_type": "markdown",
   "id": "6eff99f5",
   "metadata": {},
   "source": [
    "## Part A: CNN-Based Plant Disease Detection"
   ]
  },
  {
   "cell_type": "code",
   "execution_count": 1,
   "id": "58d8bbf6",
   "metadata": {},
   "outputs": [
    {
     "name": "stdout",
     "output_type": "stream",
     "text": [
      "Found 16502 images belonging to 16 classes.\n",
      "Found 4134 images belonging to 16 classes.\n"
     ]
    }
   ],
   "source": [
    "import tensorflow as tf\n",
    "from tensorflow.keras.preprocessing.image import ImageDataGenerator\n",
    "\n",
    "data_dir = r\"C:\\Users\\kirti\\Desktop\\Desktop47\\IEEE\\PlantVillage_Split\"  # Path to your dataset\n",
    "\n",
    "datagen = ImageDataGenerator(rescale=1./255, validation_split=0.2)\n",
    "\n",
    "train_gen = datagen.flow_from_directory(\n",
    "    'PlantVillage_Split/train',\n",
    "    target_size=(128, 128),\n",
    "    batch_size=32,\n",
    "    class_mode='categorical'\n",
    ")\n",
    "\n",
    "val_gen = datagen.flow_from_directory(\n",
    "    'PlantVillage_Split/val',\n",
    "    target_size=(128, 128),\n",
    "    batch_size=32,\n",
    "    class_mode='categorical'\n",
    ")\n"
   ]
  },
  {
   "cell_type": "code",
   "execution_count": 2,
   "id": "602fb4a8",
   "metadata": {},
   "outputs": [
    {
     "name": "stdout",
     "output_type": "stream",
     "text": [
      "Model: \"sequential\"\n",
      "_________________________________________________________________\n",
      " Layer (type)                Output Shape              Param #   \n",
      "=================================================================\n",
      " conv2d (Conv2D)             (None, 126, 126, 32)      896       \n",
      "                                                                 \n",
      " max_pooling2d (MaxPooling2D  (None, 63, 63, 32)       0         \n",
      " )                                                               \n",
      "                                                                 \n",
      " conv2d_1 (Conv2D)           (None, 61, 61, 64)        18496     \n",
      "                                                                 \n",
      " max_pooling2d_1 (MaxPooling  (None, 30, 30, 64)       0         \n",
      " 2D)                                                             \n",
      "                                                                 \n",
      " flatten (Flatten)           (None, 57600)             0         \n",
      "                                                                 \n",
      " dense (Dense)               (None, 128)               7372928   \n",
      "                                                                 \n",
      " dense_1 (Dense)             (None, 16)                2064      \n",
      "                                                                 \n",
      "=================================================================\n",
      "Total params: 7,394,384\n",
      "Trainable params: 7,394,384\n",
      "Non-trainable params: 0\n",
      "_________________________________________________________________\n"
     ]
    }
   ],
   "source": [
    "from tensorflow.keras import layers, models\n",
    "\n",
    "model = models.Sequential([\n",
    "    layers.Conv2D(32, (3, 3), activation='relu', input_shape=(128, 128, 3)),\n",
    "    layers.MaxPooling2D(2, 2),\n",
    "    layers.Conv2D(64, (3, 3), activation='relu'),\n",
    "    layers.MaxPooling2D(2, 2),\n",
    "    layers.Flatten(),\n",
    "    layers.Dense(128, activation='relu'),\n",
    "    layers.Dense(train_gen.num_classes, activation='softmax')\n",
    "])\n",
    "\n",
    "model.compile(optimizer='adam', loss='categorical_crossentropy', metrics=['accuracy'])\n",
    "model.summary()"
   ]
  },
  {
   "cell_type": "code",
   "execution_count": 3,
   "id": "7408e9a6",
   "metadata": {},
   "outputs": [
    {
     "name": "stdout",
     "output_type": "stream",
     "text": [
      "Epoch 1/30\n",
      "516/516 [==============================] - 116s 224ms/step - loss: 1.1977 - accuracy: 0.6154 - val_loss: 0.7794 - val_accuracy: 0.7499\n",
      "Epoch 2/30\n",
      "516/516 [==============================] - 109s 210ms/step - loss: 0.4987 - accuracy: 0.8345 - val_loss: 0.5442 - val_accuracy: 0.8142\n",
      "Epoch 3/30\n",
      "516/516 [==============================] - 121s 235ms/step - loss: 0.2751 - accuracy: 0.9087 - val_loss: 0.4509 - val_accuracy: 0.8510\n",
      "Epoch 4/30\n",
      "516/516 [==============================] - 100s 193ms/step - loss: 0.1557 - accuracy: 0.9482 - val_loss: 0.3920 - val_accuracy: 0.8749\n",
      "Epoch 5/30\n",
      "516/516 [==============================] - 95s 185ms/step - loss: 0.1003 - accuracy: 0.9684 - val_loss: 0.5664 - val_accuracy: 0.8464\n",
      "Epoch 6/30\n",
      "516/516 [==============================] - 96s 186ms/step - loss: 0.0724 - accuracy: 0.9766 - val_loss: 0.4850 - val_accuracy: 0.8684\n",
      "Epoch 7/30\n",
      "516/516 [==============================] - 96s 186ms/step - loss: 0.0657 - accuracy: 0.9782 - val_loss: 0.6367 - val_accuracy: 0.8442\n",
      "Epoch 8/30\n",
      "516/516 [==============================] - 97s 187ms/step - loss: 0.0473 - accuracy: 0.9855 - val_loss: 0.6395 - val_accuracy: 0.8570\n",
      "Epoch 9/30\n",
      "516/516 [==============================] - 98s 190ms/step - loss: 0.0527 - accuracy: 0.9820 - val_loss: 0.6828 - val_accuracy: 0.8478\n",
      "Epoch 10/30\n",
      "516/516 [==============================] - 101s 195ms/step - loss: 0.0344 - accuracy: 0.9894 - val_loss: 0.6140 - val_accuracy: 0.8667\n",
      "Epoch 11/30\n",
      "516/516 [==============================] - 94s 183ms/step - loss: 0.0536 - accuracy: 0.9822 - val_loss: 0.6127 - val_accuracy: 0.8682\n",
      "Epoch 12/30\n",
      "516/516 [==============================] - 95s 184ms/step - loss: 0.0370 - accuracy: 0.9882 - val_loss: 0.5835 - val_accuracy: 0.8759\n",
      "Epoch 13/30\n",
      "516/516 [==============================] - 97s 188ms/step - loss: 0.0304 - accuracy: 0.9891 - val_loss: 0.7233 - val_accuracy: 0.8653\n",
      "Epoch 14/30\n",
      "516/516 [==============================] - 95s 183ms/step - loss: 0.0303 - accuracy: 0.9900 - val_loss: 0.6659 - val_accuracy: 0.8718\n",
      "Epoch 15/30\n",
      "516/516 [==============================] - 95s 184ms/step - loss: 0.0272 - accuracy: 0.9915 - val_loss: 0.7718 - val_accuracy: 0.8529\n",
      "Epoch 16/30\n",
      "516/516 [==============================] - 97s 187ms/step - loss: 0.0386 - accuracy: 0.9876 - val_loss: 0.9220 - val_accuracy: 0.8394\n",
      "Epoch 17/30\n",
      "516/516 [==============================] - 95s 184ms/step - loss: 0.0184 - accuracy: 0.9939 - val_loss: 0.7532 - val_accuracy: 0.8737\n",
      "Epoch 18/30\n",
      "516/516 [==============================] - 97s 188ms/step - loss: 0.0192 - accuracy: 0.9939 - val_loss: 0.8401 - val_accuracy: 0.8638\n",
      "Epoch 19/30\n",
      "516/516 [==============================] - 96s 186ms/step - loss: 0.0284 - accuracy: 0.9913 - val_loss: 0.8415 - val_accuracy: 0.8674\n",
      "Epoch 20/30\n",
      "516/516 [==============================] - 100s 194ms/step - loss: 0.0200 - accuracy: 0.9930 - val_loss: 0.8641 - val_accuracy: 0.8500\n",
      "Epoch 21/30\n",
      "516/516 [==============================] - 98s 189ms/step - loss: 0.0144 - accuracy: 0.9957 - val_loss: 1.0147 - val_accuracy: 0.8374\n",
      "Epoch 22/30\n",
      "516/516 [==============================] - 94s 183ms/step - loss: 0.0370 - accuracy: 0.9878 - val_loss: 0.7902 - val_accuracy: 0.8674\n",
      "Epoch 23/30\n",
      "516/516 [==============================] - 94s 182ms/step - loss: 0.0229 - accuracy: 0.9928 - val_loss: 0.8857 - val_accuracy: 0.8532\n",
      "Epoch 24/30\n",
      "516/516 [==============================] - 94s 182ms/step - loss: 0.0181 - accuracy: 0.9946 - val_loss: 0.7692 - val_accuracy: 0.8788\n",
      "Epoch 25/30\n",
      "516/516 [==============================] - 96s 186ms/step - loss: 0.0165 - accuracy: 0.9951 - val_loss: 0.9912 - val_accuracy: 0.8396\n",
      "Epoch 26/30\n",
      "516/516 [==============================] - 94s 182ms/step - loss: 0.0300 - accuracy: 0.9902 - val_loss: 0.9178 - val_accuracy: 0.8578\n",
      "Epoch 27/30\n",
      "516/516 [==============================] - 97s 187ms/step - loss: 0.0127 - accuracy: 0.9960 - val_loss: 0.8619 - val_accuracy: 0.8612\n",
      "Epoch 28/30\n",
      "516/516 [==============================] - 96s 187ms/step - loss: 0.0033 - accuracy: 0.9990 - val_loss: 0.8029 - val_accuracy: 0.8795\n",
      "Epoch 29/30\n",
      "516/516 [==============================] - 93s 180ms/step - loss: 3.0251e-04 - accuracy: 1.0000 - val_loss: 0.8107 - val_accuracy: 0.8810\n",
      "Epoch 30/30\n",
      "516/516 [==============================] - 95s 183ms/step - loss: 0.0420 - accuracy: 0.9875 - val_loss: 0.9631 - val_accuracy: 0.8609\n"
     ]
    }
   ],
   "source": [
    "history = model.fit(\n",
    "    train_gen,\n",
    "    validation_data=val_gen,\n",
    "    epochs=30\n",
    ")"
   ]
  },
  {
   "cell_type": "code",
   "execution_count": 4,
   "id": "7ac6fee3",
   "metadata": {},
   "outputs": [],
   "source": [
    "model.save('plant_disease_cnn_model.h5')"
   ]
  },
  {
   "cell_type": "code",
   "execution_count": 5,
   "id": "ee48da2b",
   "metadata": {},
   "outputs": [
    {
     "name": "stdout",
     "output_type": "stream",
     "text": [
      "1/1 [==============================] - 0s 472ms/step\n",
      "Predicted Class: Tomato_Late_blight\n"
     ]
    }
   ],
   "source": [
    "import numpy as np\n",
    "from tensorflow.keras.preprocessing import image\n",
    "\n",
    "img_path = r\"C:\\Users\\kirti\\Desktop\\Desktop47\\IEEE\\PlantVillage_Split\\train\\Tomato_Late_blight\\00ce4c63-9913-4b16-898c-29f99acf0dc3___RS_Late.B 4982.JPG\"\n",
    "img = image.load_img(img_path, target_size=(128, 128))\n",
    "img_array = image.img_to_array(img) / 255.0\n",
    "img_array = np.expand_dims(img_array, axis=0)\n",
    "\n",
    "pred = model.predict(img_array)\n",
    "class_index = np.argmax(pred)\n",
    "class_labels = list(train_gen.class_indices.keys())\n",
    "\n",
    "print(\"Predicted Class:\", class_labels[class_index])"
   ]
  },
  {
   "cell_type": "markdown",
   "id": "2b62fe99",
   "metadata": {},
   "source": [
    "## Part B: NDVI Estimation from NIR and Red Band Images"
   ]
  },
  {
   "cell_type": "code",
   "execution_count": 6,
   "id": "85c5762f",
   "metadata": {},
   "outputs": [
    {
     "name": "stdout",
     "output_type": "stream",
     "text": [
      "False\n"
     ]
    }
   ],
   "source": [
    "import os\n",
    "print(os.path.exists('red_band.jpg'))"
   ]
  },
  {
   "cell_type": "code",
   "execution_count": 7,
   "id": "905b2d8f",
   "metadata": {
    "scrolled": true
   },
   "outputs": [
    {
     "name": "stdout",
     "output_type": "stream",
     "text": [
      "Defaulting to user installation because normal site-packages is not writeable\n",
      "Requirement already satisfied: rasterio in c:\\users\\kirti\\appdata\\roaming\\python\\python310\\site-packages (1.4.3)\n",
      "Requirement already satisfied: matplotlib in c:\\programdata\\anaconda3\\envs\\tf\\lib\\site-packages (3.8.4)\n",
      "Requirement already satisfied: numpy in c:\\programdata\\anaconda3\\envs\\tf\\lib\\site-packages (1.26.4)\n",
      "Requirement already satisfied: affine in c:\\users\\kirti\\appdata\\roaming\\python\\python310\\site-packages (from rasterio) (2.4.0)\n",
      "Requirement already satisfied: attrs in c:\\programdata\\anaconda3\\envs\\tf\\lib\\site-packages (from rasterio) (23.1.0)\n",
      "Requirement already satisfied: certifi in c:\\programdata\\anaconda3\\envs\\tf\\lib\\site-packages (from rasterio) (2024.7.4)\n",
      "Requirement already satisfied: click>=4.0 in c:\\programdata\\anaconda3\\envs\\tf\\lib\\site-packages (from rasterio) (8.1.7)\n",
      "Requirement already satisfied: cligj>=0.5 in c:\\users\\kirti\\appdata\\roaming\\python\\python310\\site-packages (from rasterio) (0.7.2)\n",
      "Requirement already satisfied: click-plugins in c:\\users\\kirti\\appdata\\roaming\\python\\python310\\site-packages (from rasterio) (1.1.1.2)\n",
      "Requirement already satisfied: pyparsing in c:\\programdata\\anaconda3\\envs\\tf\\lib\\site-packages (from rasterio) (3.0.9)\n",
      "Requirement already satisfied: contourpy>=1.0.1 in c:\\programdata\\anaconda3\\envs\\tf\\lib\\site-packages (from matplotlib) (1.2.0)\n",
      "Requirement already satisfied: cycler>=0.10 in c:\\programdata\\anaconda3\\envs\\tf\\lib\\site-packages (from matplotlib) (0.11.0)\n",
      "Requirement already satisfied: fonttools>=4.22.0 in c:\\programdata\\anaconda3\\envs\\tf\\lib\\site-packages (from matplotlib) (4.51.0)\n",
      "Requirement already satisfied: kiwisolver>=1.3.1 in c:\\programdata\\anaconda3\\envs\\tf\\lib\\site-packages (from matplotlib) (1.4.4)\n",
      "Requirement already satisfied: packaging>=20.0 in c:\\programdata\\anaconda3\\envs\\tf\\lib\\site-packages (from matplotlib) (24.1)\n",
      "Requirement already satisfied: pillow>=8 in c:\\programdata\\anaconda3\\envs\\tf\\lib\\site-packages (from matplotlib) (10.4.0)\n",
      "Requirement already satisfied: python-dateutil>=2.7 in c:\\programdata\\anaconda3\\envs\\tf\\lib\\site-packages (from matplotlib) (2.9.0.post0)\n",
      "Requirement already satisfied: colorama in c:\\programdata\\anaconda3\\envs\\tf\\lib\\site-packages (from click>=4.0->rasterio) (0.4.6)\n",
      "Requirement already satisfied: six>=1.5 in c:\\programdata\\anaconda3\\envs\\tf\\lib\\site-packages (from python-dateutil>=2.7->matplotlib) (1.16.0)\n"
     ]
    }
   ],
   "source": [
    "!pip install rasterio matplotlib numpy"
   ]
  },
  {
   "cell_type": "code",
   "execution_count": 1,
   "id": "2f193ce1",
   "metadata": {},
   "outputs": [
    {
     "name": "stdout",
     "output_type": "stream",
     "text": [
      "✅ Bands loaded successfully.\n",
      "Red shape: (84, 183), NIR shape: (84, 183)\n"
     ]
    },
    {
     "name": "stderr",
     "output_type": "stream",
     "text": [
      "C:\\ProgramData\\anaconda3\\envs\\tf\\lib\\site-packages\\IPython\\core\\pylabtools.py:170: UserWarning: Glyph 127807 (\\N{HERB}) missing from current font.\n",
      "  fig.canvas.print_figure(bytes_io, **kw)\n"
     ]
    },
    {
     "data": {
      "image/png": "[encoded data removed]",
      "text/plain": [
       "<Figure size 1000x600 with 2 Axes>"
      ]
     },
     "metadata": {},
     "output_type": "display_data"
    }
   ],
   "source": [
    "import rasterio\n",
    "import numpy as np\n",
    "import matplotlib.pyplot as plt\n",
    "\n",
    "# Provide the correct file names for your downloaded Sentinel-2 bands\n",
    "red_band_path = r\"C:\\Users\\kirti\\Desktop\\Desktop47\\IEEE\\EO_Browser_images\\red_band.tif.tiff\"   # This should be B04\n",
    "nir_band_path = r\"C:\\Users\\kirti\\Desktop\\Desktop47\\IEEE\\EO_Browser_images\\nir_band.tif.tiff\"   # This should be B08\n",
    "\n",
    "# Load the Red and NIR bands\n",
    "with rasterio.open(red_band_path) as red_src:\n",
    "    red = red_src.read(1).astype('float32')\n",
    "    transform = red_src.transform  # save transform to write NDVI GeoTIFF\n",
    "\n",
    "with rasterio.open(nir_band_path) as nir_src:\n",
    "    nir = nir_src.read(1).astype('float32')\n",
    "\n",
    "print(\"✅ Bands loaded successfully.\")\n",
    "print(f\"Red shape: {red.shape}, NIR shape: {nir.shape}\")\n",
    "\n",
    "# Compute NDVI\n",
    "ndvi = (nir - red) / (nir + red + 1e-10)\n",
    "ndvi = np.clip(ndvi, -1, 1)\n",
    "\n",
    "# Display NDVI\n",
    "plt.figure(figsize=(10, 6))\n",
    "plt.imshow(ndvi, cmap='RdYlGn')\n",
    "plt.colorbar(label='NDVI')\n",
    "plt.title(\"🌿 NDVI from Sentinel-2\")\n",
    "plt.axis('off')\n",
    "plt.show()\n"
   ]
  },
  {
   "cell_type": "code",
   "execution_count": 2,
   "id": "2ec90d7e",
   "metadata": {},
   "outputs": [
    {
     "name": "stdout",
     "output_type": "stream",
     "text": [
      "✅ NDVI saved as ndvi_output.tif\n"
     ]
    }
   ],
   "source": [
    "# Save NDVI as GeoTIFF for GIS or future use\n",
    "with rasterio.open(\n",
    "    'ndvi_output.tif',\n",
    "    'w',\n",
    "    driver='GTiff',\n",
    "    height=ndvi.shape[0],\n",
    "    width=ndvi.shape[1],\n",
    "    count=1,\n",
    "    dtype=ndvi.dtype,\n",
    "    crs='EPSG:4326',\n",
    "    transform=transform,\n",
    ") as dst:\n",
    "    dst.write(ndvi, 1)\n",
    "\n",
    "print(\"✅ NDVI saved as ndvi_output.tif\")\n"
   ]
  },
  {
   "cell_type": "code",
   "execution_count": null,
   "id": "a0de4ccf",
   "metadata": {},
   "outputs": [],
   "source": []
  }
 ],
 "metadata": {
  "kernelspec": {
   "display_name": "Python 3 (ipykernel)",
   "language": "python",
   "name": "python3"
  },
  "language_info": {
   "codemirror_mode": {
    "name": "ipython",
    "version": 3
   },
   "file_extension": ".py",
   "mimetype": "text/x-python",
   "name": "python",
   "nbconvert_exporter": "python",
   "pygments_lexer": "ipython3",
   "version": "3.10.13"
  }
 },
 "nbformat": 4,
 "nbformat_minor": 5
}
